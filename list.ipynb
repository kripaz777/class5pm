{
 "cells": [
  {
   "cell_type": "code",
   "execution_count": 1,
   "metadata": {},
   "outputs": [],
   "source": [
    "# Python Collection\n",
    "# -List\n",
    "# -Tuple\n",
    "# -Dictionary\n",
    "# -Set"
   ]
  },
  {
   "cell_type": "code",
   "execution_count": 4,
   "metadata": {},
   "outputs": [
    {
     "name": "stdout",
     "output_type": "stream",
     "text": [
      "5\n",
      "<class 'list'>\n"
     ]
    }
   ],
   "source": [
    "# list\n",
    "l = []\n",
    "a = [\"Apple\",\"Ball\",\"Cat\",\"Dog\",\"Fish\"]\n",
    "print(len(a))\n",
    "print(type(a))"
   ]
  },
  {
   "cell_type": "code",
   "execution_count": 3,
   "metadata": {},
   "outputs": [],
   "source": [
    "# List\n",
    "# -Indexed\n",
    "# -Ordered\n",
    "# -Multiple values\n",
    "# -Mutable"
   ]
  },
  {
   "cell_type": "code",
   "execution_count": 6,
   "metadata": {},
   "outputs": [
    {
     "name": "stdout",
     "output_type": "stream",
     "text": [
      "Ball\n"
     ]
    }
   ],
   "source": [
    "a = [\"Apple\",\"Ball\",\"Cat\",\"Dog\",\"Fish\"]\n",
    "print(a[1])"
   ]
  },
  {
   "cell_type": "code",
   "execution_count": 11,
   "metadata": {},
   "outputs": [
    {
     "name": "stdout",
     "output_type": "stream",
     "text": [
      "Fish\n"
     ]
    }
   ],
   "source": [
    "a = [\"Apple\",\"Ball\",\"Cat\",\"Dog\",\"Fish\"]\n",
    "print(a[4])"
   ]
  },
  {
   "cell_type": "code",
   "execution_count": 12,
   "metadata": {},
   "outputs": [
    {
     "name": "stdout",
     "output_type": "stream",
     "text": [
      "['Ball', 'Cat', 'Dog', 'Fish']\n"
     ]
    }
   ],
   "source": [
    "a = [\"Apple\",\"Ball\",\"Cat\",\"Dog\",\"Fish\"]\n",
    "print(a[1:4100])"
   ]
  },
  {
   "cell_type": "code",
   "execution_count": 9,
   "metadata": {},
   "outputs": [
    {
     "name": "stdout",
     "output_type": "stream",
     "text": [
      "['Apple', 'Cat']\n"
     ]
    }
   ],
   "source": [
    "a = [\"Apple\",\"Ball\",\"Cat\",\"Dog\",\"Fish\"]\n",
    "print(a[0:4:2])"
   ]
  },
  {
   "cell_type": "code",
   "execution_count": 13,
   "metadata": {},
   "outputs": [
    {
     "name": "stdout",
     "output_type": "stream",
     "text": [
      "['Apple', 'Ball', 'Cat', 'Dog', 'Fish']\n"
     ]
    }
   ],
   "source": [
    "a = [\"Apple\",\"Ball\",\"Cat\",\"Dog\",\"Fish\"]\n",
    "print(a)"
   ]
  },
  {
   "cell_type": "code",
   "execution_count": 15,
   "metadata": {},
   "outputs": [
    {
     "name": "stdout",
     "output_type": "stream",
     "text": [
      "['Bag', 'Apple', 'Ball', 'Cat', 'Dog', 'Fish']\n"
     ]
    }
   ],
   "source": [
    "a = [\"Apple\",\"Ball\",\"Cat\",\"Dog\",\"Fish\"]\n",
    "b = ['Bag']\n",
    "print(b+a)"
   ]
  },
  {
   "cell_type": "code",
   "execution_count": 16,
   "metadata": {},
   "outputs": [
    {
     "name": "stdout",
     "output_type": "stream",
     "text": [
      "['Apple', 'Ball', 'Cat', 'Dog', 'Fish', 'Apple', 'Ball', 'Cat', 'Dog', 'Fish']\n"
     ]
    }
   ],
   "source": [
    "a = [\"Apple\",\"Ball\",\"Cat\",\"Dog\",\"Fish\"]\n",
    "print(a*2)"
   ]
  },
  {
   "cell_type": "code",
   "execution_count": 17,
   "metadata": {},
   "outputs": [
    {
     "data": {
      "text/plain": [
       "[1, 2, 3, 3.4, 'Apple']"
      ]
     },
     "execution_count": 17,
     "metadata": {},
     "output_type": "execute_result"
    }
   ],
   "source": [
    "a = [1,2,3,3.4,\"Apple\"]\n",
    "a"
   ]
  },
  {
   "cell_type": "code",
   "execution_count": 19,
   "metadata": {},
   "outputs": [
    {
     "name": "stdout",
     "output_type": "stream",
     "text": [
      "['Ant', 'Ball', 'Cat', 'Dog', 'Fish']\n"
     ]
    }
   ],
   "source": [
    "a = [\"Apple\",\"Ball\",\"Cat\",\"Dog\",\"Fish\"]\n",
    "a[0] = \"Ant\"\n",
    "print(a)"
   ]
  },
  {
   "cell_type": "code",
   "execution_count": 21,
   "metadata": {},
   "outputs": [
    {
     "name": "stdout",
     "output_type": "stream",
     "text": [
      "Enter n = 5\n",
      "Enter name = Ram\n",
      "Enter name = Shyam\n",
      "Enter name = Hari\n",
      "Enter name = Sita\n",
      "Enter name = Gita\n",
      "['Ram', 'Shyam', 'Hari', 'Sita', 'Gita']\n"
     ]
    }
   ],
   "source": [
    "a = []\n",
    "n = int(input(\"Enter n = \"))\n",
    "for i in range(n):\n",
    "    name = input(\"Enter name = \")\n",
    "    a = a+[name]\n",
    "    \n",
    "print(a)"
   ]
  },
  {
   "cell_type": "code",
   "execution_count": 22,
   "metadata": {},
   "outputs": [
    {
     "name": "stdout",
     "output_type": "stream",
     "text": [
      "Ram\n",
      "Shyam\n",
      "Hari\n",
      "Sita\n",
      "Gita\n"
     ]
    }
   ],
   "source": [
    "for i in a:\n",
    "    print(i)"
   ]
  },
  {
   "cell_type": "code",
   "execution_count": 23,
   "metadata": {},
   "outputs": [
    {
     "name": "stdout",
     "output_type": "stream",
     "text": [
      "Yes\n",
      "1\n"
     ]
    }
   ],
   "source": [
    "a = ['Ram', 'Shyam', 'Hari', 'Sita', 'Gita']\n",
    "if \"Ram\" in a:\n",
    "    print(\"Yes\")\n",
    "    print(a.count(\"Ram\"))"
   ]
  },
  {
   "cell_type": "code",
   "execution_count": 24,
   "metadata": {},
   "outputs": [],
   "source": [
    "# append()\n",
    "# insert()\n",
    "# extend()"
   ]
  },
  {
   "cell_type": "code",
   "execution_count": 25,
   "metadata": {},
   "outputs": [
    {
     "name": "stdout",
     "output_type": "stream",
     "text": [
      "['Apple']\n"
     ]
    }
   ],
   "source": [
    "# append()\n",
    "a = []\n",
    "a.append(\"Apple\")\n",
    "print(a)"
   ]
  },
  {
   "cell_type": "code",
   "execution_count": 26,
   "metadata": {},
   "outputs": [
    {
     "name": "stdout",
     "output_type": "stream",
     "text": [
      "Enter n = 2\n",
      "Enter name = Apple\n",
      "Enter name = Ball\n",
      "['Apple', 'Ball']\n"
     ]
    }
   ],
   "source": [
    "a = []\n",
    "n = int(input(\"Enter n = \"))\n",
    "for i in range(n):\n",
    "    name = input(\"Enter name = \")\n",
    "    a.append(name)\n",
    "    \n",
    "print(a)"
   ]
  },
  {
   "cell_type": "code",
   "execution_count": 27,
   "metadata": {},
   "outputs": [
    {
     "name": "stdout",
     "output_type": "stream",
     "text": [
      "['Ram', 'Nabin', 'Shyam', 'Hari', 'Sita', 'Gita']\n"
     ]
    }
   ],
   "source": [
    "# insert()\n",
    "a = ['Ram', 'Shyam', 'Hari', 'Sita', 'Gita']\n",
    "a.insert(1,\"Nabin\")\n",
    "print(a)"
   ]
  },
  {
   "cell_type": "code",
   "execution_count": 28,
   "metadata": {},
   "outputs": [
    {
     "data": {
      "text/plain": [
       "['Ram', 'Shyam', 'Hari', 'Sita', 'Gita', 'Nabina', 'Sabina']"
      ]
     },
     "execution_count": 28,
     "metadata": {},
     "output_type": "execute_result"
    }
   ],
   "source": [
    "# extend()\n",
    "a = ['Ram', 'Shyam', 'Hari', 'Sita', 'Gita']\n",
    "b = [\"Nabina\",\"Sabina\"]\n",
    "a.extend(b)\n",
    "a"
   ]
  },
  {
   "cell_type": "code",
   "execution_count": 29,
   "metadata": {},
   "outputs": [],
   "source": [
    "# remove()\n",
    "# pop()\n",
    "# del "
   ]
  },
  {
   "cell_type": "code",
   "execution_count": 30,
   "metadata": {},
   "outputs": [
    {
     "data": {
      "text/plain": [
       "['Shyam', 'Hari', 'Sita', 'Gita']"
      ]
     },
     "execution_count": 30,
     "metadata": {},
     "output_type": "execute_result"
    }
   ],
   "source": [
    "a = ['Ram', 'Shyam', 'Hari', 'Sita', 'Gita']\n",
    "a.remove('Ram')\n",
    "a"
   ]
  },
  {
   "cell_type": "code",
   "execution_count": 34,
   "metadata": {},
   "outputs": [
    {
     "name": "stdout",
     "output_type": "stream",
     "text": [
      "2\n",
      "['Ram', 'Shyam', 'Sita', 'Gita']\n"
     ]
    }
   ],
   "source": [
    "a = ['Ram', 'Shyam', 'Hari', 'Sita', 'Gita']\n",
    "i = a.index(\"Hari\")\n",
    "print(i)\n",
    "del a[2]\n",
    "print(a)"
   ]
  },
  {
   "cell_type": "code",
   "execution_count": 35,
   "metadata": {},
   "outputs": [
    {
     "data": {
      "text/plain": [
       "['Sita', 'Gita']"
      ]
     },
     "execution_count": 35,
     "metadata": {},
     "output_type": "execute_result"
    }
   ],
   "source": [
    "a = ['Ram', 'Shyam', 'Hari', 'Sita', 'Gita']\n",
    "del a[0:3]\n",
    "a"
   ]
  },
  {
   "cell_type": "code",
   "execution_count": 36,
   "metadata": {},
   "outputs": [
    {
     "data": {
      "text/plain": [
       "['Shyam', 'Sita']"
      ]
     },
     "execution_count": 36,
     "metadata": {},
     "output_type": "execute_result"
    }
   ],
   "source": [
    "a = ['Ram', 'Shyam', 'Hari', 'Sita', 'Gita']\n",
    "del a[0:6:2]\n",
    "a"
   ]
  },
  {
   "cell_type": "code",
   "execution_count": 39,
   "metadata": {},
   "outputs": [
    {
     "data": {
      "text/plain": [
       "['Shyam', 'Hari', 'Sita', 'Gita']"
      ]
     },
     "execution_count": 39,
     "metadata": {},
     "output_type": "execute_result"
    }
   ],
   "source": [
    "a = ['Ram', 'Shyam', 'Hari', 'Sita', 'Gita','Ram']\n",
    "for i in a:\n",
    "    if i == \"Ram\":\n",
    "        a.remove('Ram')\n",
    "a"
   ]
  },
  {
   "cell_type": "code",
   "execution_count": 40,
   "metadata": {},
   "outputs": [
    {
     "name": "stdout",
     "output_type": "stream",
     "text": [
      "0\n",
      "5\n"
     ]
    }
   ],
   "source": [
    "a = ['Ram', 'Shyam', 'Hari', 'Sita', 'Gita','Ram']\n",
    "n = len(a)\n",
    "for i in range(n):\n",
    "    if a[i] == \"Ram\":\n",
    "        print(i)"
   ]
  },
  {
   "cell_type": "code",
   "execution_count": 43,
   "metadata": {},
   "outputs": [
    {
     "name": "stdout",
     "output_type": "stream",
     "text": [
      "['Ram', 'Hari', 'Sita', 'Gita']\n",
      "Shyam\n"
     ]
    }
   ],
   "source": [
    "a = ['Ram', 'Shyam', 'Hari', 'Sita', 'Gita']\n",
    "x = a.pop(1)\n",
    "print(a)\n",
    "print(x)"
   ]
  },
  {
   "cell_type": "code",
   "execution_count": 44,
   "metadata": {},
   "outputs": [
    {
     "data": {
      "text/plain": [
       "[]"
      ]
     },
     "execution_count": 44,
     "metadata": {},
     "output_type": "execute_result"
    }
   ],
   "source": [
    "a = ['Ram', 'Shyam', 'Hari', 'Sita', 'Gita']\n",
    "a.clear()\n",
    "a"
   ]
  },
  {
   "cell_type": "code",
   "execution_count": 46,
   "metadata": {},
   "outputs": [
    {
     "name": "stdout",
     "output_type": "stream",
     "text": [
      "Enter n = 2\n",
      "Enter product 1= Apple\n",
      "Enter price of Apple = 200\n",
      "Enter quantity Apple= 3\n",
      "Enter product 2= Banana\n",
      "Enter price of Banana = 200\n",
      "Enter quantity Banana= 4\n",
      "1 Apple 200 3 600\n",
      "2 Banana 200 4 800\n",
      "\n"
     ]
    }
   ],
   "source": [
    "s = str()\n",
    "n = int(input(\"Enter n = \"))\n",
    "for i in range(1,n+1):\n",
    "    product = input(f\"Enter product {i}= \")\n",
    "    price = int(input(f\"Enter price of {product} = \"))\n",
    "    quantity = int(input(f\"Enter quantity {product}= \"))\n",
    "    total = price*quantity\n",
    "    info = f\"{i} {product} {price} {quantity} {total}\\n\"\n",
    "    s = s+info\n",
    "   \n",
    "    \n",
    "print(s)\n"
   ]
  },
  {
   "cell_type": "code",
   "execution_count": 47,
   "metadata": {},
   "outputs": [
    {
     "name": "stdout",
     "output_type": "stream",
     "text": [
      "['1 Apple 200 3 600', '2 Banana 200 4 800', '']\n"
     ]
    }
   ],
   "source": [
    "l = s.split('\\n')\n",
    "print(l)"
   ]
  },
  {
   "cell_type": "code",
   "execution_count": 48,
   "metadata": {},
   "outputs": [
    {
     "name": "stdout",
     "output_type": "stream",
     "text": [
      "1 Apple 200 3 600\n"
     ]
    }
   ],
   "source": [
    "print(l[0])"
   ]
  },
  {
   "cell_type": "code",
   "execution_count": 49,
   "metadata": {},
   "outputs": [
    {
     "data": {
      "text/plain": [
       "['1 Ball 200 3 600', '2 Banana 200 4 800', '']"
      ]
     },
     "execution_count": 49,
     "metadata": {},
     "output_type": "execute_result"
    }
   ],
   "source": [
    "a = ['1 Apple 200 3 600', '2 Banana 200 4 800', '']\n",
    "a[0] = '1 Ball 200 3 600'\n",
    "a"
   ]
  },
  {
   "cell_type": "code",
   "execution_count": 1,
   "metadata": {},
   "outputs": [
    {
     "name": "stdout",
     "output_type": "stream",
     "text": [
      "[[1, 2, 3], [4, 5, 6], [7, 8, 9]]\n"
     ]
    }
   ],
   "source": [
    "# List inside list\n",
    "a = [[1,2,3],[4,5,6],[7,8,9]]\n",
    "print(a)"
   ]
  },
  {
   "cell_type": "code",
   "execution_count": 2,
   "metadata": {},
   "outputs": [
    {
     "name": "stdout",
     "output_type": "stream",
     "text": [
      "[['Ram', 34, 'Kathmandu', 9856554543], ['Shyam', 54, 'Patan', 9856554543]]\n"
     ]
    }
   ],
   "source": [
    "a = [[\"Ram\",34,\"Kathmandu\",9856554543],\n",
    "    [\"Shyam\",54,\"Patan\",9856554543]]\n",
    "print(a)"
   ]
  },
  {
   "cell_type": "code",
   "execution_count": 3,
   "metadata": {},
   "outputs": [
    {
     "name": "stdout",
     "output_type": "stream",
     "text": [
      "Enter n = 2\n",
      "Enter name = Ram\n",
      "Enter age = 34\n",
      "Enter address = Kathmandu\n",
      "Enter phone = 9845889432\n",
      "Enter name = Shyam\n",
      "Enter age = 34\n",
      "Enter address = Kathmandu\n",
      "Enter phone = 9856554543\n",
      "[['Ram', 34, 'Kathmandu', 9845889432], ['Shyam', 34, 'Kathmandu', 9856554543]]\n"
     ]
    }
   ],
   "source": [
    "a = []\n",
    "n = int(input(\"Enter n = \"))\n",
    "for i in range(n):\n",
    "    name = input(\"Enter name = \")\n",
    "    age = int(input(\"Enter age = \"))\n",
    "    add = input(\"Enter address = \")\n",
    "    phone=int(input(\"Enter phone = \"))\n",
    "    info = [name,age,add,phone]\n",
    "    a.append(info)\n",
    "    \n",
    "print(a)"
   ]
  },
  {
   "cell_type": "code",
   "execution_count": 6,
   "metadata": {},
   "outputs": [
    {
     "name": "stdout",
     "output_type": "stream",
     "text": [
      "['Ram', 34, 'Kathmandu', 9845889432]\n",
      "2\n"
     ]
    }
   ],
   "source": [
    "a = [['Ram', 34, 'Kathmandu', 9845889432], ['Shyam', 34, 'Kathmandu', 9856554543]]\n",
    "print(a[0])\n",
    "print(len(a))"
   ]
  },
  {
   "cell_type": "code",
   "execution_count": 13,
   "metadata": {},
   "outputs": [
    {
     "data": {
      "text/plain": [
       "9845889432"
      ]
     },
     "execution_count": 13,
     "metadata": {},
     "output_type": "execute_result"
    }
   ],
   "source": [
    "a = [['Ram', 34, 'Kathmandu', 9845889432], ['Shyam', 34, 'Kathmandu', 9856554543]]\n",
    "a[0][3]"
   ]
  },
  {
   "cell_type": "code",
   "execution_count": 15,
   "metadata": {},
   "outputs": [
    {
     "data": {
      "text/plain": [
       "[['Rama', 54, 'Kathmandu', 9845889432], ['Shyam', 34, 'Kathmandu', 9856554543]]"
      ]
     },
     "execution_count": 15,
     "metadata": {},
     "output_type": "execute_result"
    }
   ],
   "source": [
    "a = [['Ram', 34, 'Kathmandu', 9845889432], ['Shyam', 34, 'Kathmandu', 9856554543]]\n",
    "a[0] = ['Rama', 54, 'Kathmandu', 9845889432]\n",
    "a"
   ]
  },
  {
   "cell_type": "code",
   "execution_count": 16,
   "metadata": {},
   "outputs": [
    {
     "data": {
      "text/plain": [
       "[['Hari', 34, 'Kathmandu', 9845889432], ['Shyam', 34, 'Kathmandu', 9856554543]]"
      ]
     },
     "execution_count": 16,
     "metadata": {},
     "output_type": "execute_result"
    }
   ],
   "source": [
    "a = [['Ram', 34, 'Kathmandu', 9845889432], ['Shyam', 34, 'Kathmandu', 9856554543]]\n",
    "a[0][0] = \"Hari\"\n",
    "a"
   ]
  },
  {
   "cell_type": "code",
   "execution_count": 1,
   "metadata": {},
   "outputs": [
    {
     "name": "stdout",
     "output_type": "stream",
     "text": [
      "Enter name = Kathmandu\n",
      "['Ram', 34, 'Kathmandu', 9845889432]\n",
      "['Shyam', 34, 'Kathmandu', 9856554543]\n",
      "2\n"
     ]
    }
   ],
   "source": [
    "a = [['Ram', 34, 'Kathmandu', 9845889432], ['Shyam', 34, 'Kathmandu', 9856554543]]\n",
    "name = input(\"Enter name = \")\n",
    "c = 0\n",
    "for i in a:\n",
    "    if name in i:\n",
    "        print(i)\n",
    "        c = c+1\n",
    "print(c)"
   ]
  },
  {
   "cell_type": "code",
   "execution_count": 2,
   "metadata": {},
   "outputs": [
    {
     "data": {
      "text/plain": [
       "[['Shyam', 34, 'Kathmandu', 9856554543]]"
      ]
     },
     "execution_count": 2,
     "metadata": {},
     "output_type": "execute_result"
    }
   ],
   "source": [
    "a = a = [['Ram', 34, 'Kathmandu', 9845889432], ['Shyam', 34, 'Kathmandu', 9856554543]]\n",
    "del a[0]\n",
    "a"
   ]
  },
  {
   "cell_type": "code",
   "execution_count": 4,
   "metadata": {},
   "outputs": [
    {
     "name": "stdout",
     "output_type": "stream",
     "text": [
      "[['Ram', 34, 'Kathmandu', 9845889432]]\n",
      "['Shyam', 34, 'Kathmandu', 9856554543]\n"
     ]
    }
   ],
   "source": [
    "a = [['Ram', 34, 'Kathmandu', 9845889432], ['Shyam', 34, 'Kathmandu', 9856554543]]\n",
    "b = a.pop(1)\n",
    "print(a)\n",
    "print(b)"
   ]
  },
  {
   "cell_type": "code",
   "execution_count": 7,
   "metadata": {},
   "outputs": [
    {
     "name": "stdout",
     "output_type": "stream",
     "text": [
      "[['Ram', 34, 'Kathmandu', 9845889432], ['Shyam', 34, 'Kathmandu', 9856554543]]\n"
     ]
    }
   ],
   "source": [
    "a = [['Ram', 34, 'Kathmandu', 9845889432], ['Shyam', 34, 'Kathmandu', 9856554543],['Shyam', 34, 'Kathmandu', 9856554543]]\n",
    "for i in a:\n",
    "    if \"Shyam\" in i:\n",
    "        a.remove(i)\n",
    "print(a)"
   ]
  },
  {
   "cell_type": "code",
   "execution_count": 8,
   "metadata": {},
   "outputs": [
    {
     "name": "stdout",
     "output_type": "stream",
     "text": [
      "[['Ram', 34, 'Kathmandu', 9845889432]]\n"
     ]
    }
   ],
   "source": [
    "b = []\n",
    "a = [['Ram', 34, 'Kathmandu', 9845889432], ['Shyam', 34, 'Kathmandu', 9856554543],['Shyam', 34, 'Kathmandu', 9856554543]]\n",
    "for i in a:\n",
    "    if \"Shyam\" in i:\n",
    "        pass\n",
    "    else:\n",
    "        b.append(i)\n",
    "        \n",
    "print(b)"
   ]
  },
  {
   "cell_type": "code",
   "execution_count": 10,
   "metadata": {},
   "outputs": [
    {
     "name": "stdout",
     "output_type": "stream",
     "text": [
      "1\n",
      "2\n"
     ]
    }
   ],
   "source": [
    "a = [['Ram', 34, 'Kathmandu', 9845889432], ['Shyam', 34, 'Kathmandu', 9856554543],['Shyam', 34, 'Kathmandu', 9856554543]]\n",
    "l = len(a)\n",
    "for i in range(l):\n",
    "    if \"Shyam\" in a[i]:\n",
    "        print(i)\n"
   ]
  },
  {
   "cell_type": "code",
   "execution_count": null,
   "metadata": {},
   "outputs": [],
   "source": [
    "# # Matrix\n",
    "# WAP to build matrix using list\n",
    "# WAP to find max value min and value sum in list (min() max() sum())"
   ]
  },
  {
   "cell_type": "code",
   "execution_count": 2,
   "metadata": {},
   "outputs": [
    {
     "name": "stdout",
     "output_type": "stream",
     "text": [
      "Enter n = 4\n",
      "Enter row1 = 2\n",
      "Enter row2 = 2\n",
      "Enter row1 = 3\n",
      "Enter row2 = 4\n",
      "Enter row1 = 3\n",
      "Enter row2 = 2\n",
      "Enter row1 = 3\n",
      "Enter row2 = 2\n",
      "[2, 3, 3, 3]\n",
      "[2, 4, 2, 2]\n"
     ]
    }
   ],
   "source": [
    "# a = []\n",
    "# b = []\n",
    "# n = int(input(\"Enter n = \"))\n",
    "# for i in range(1,n+1):\n",
    "#     row1 = int(input(\"Enter row1 = \"))\n",
    "#     row2 = int(input(\"Enter row2 = \"))\n",
    "#     a.append(row1)\n",
    "#     b.append(row2)\n",
    "\n",
    " \n",
    "\n",
    "# print(a)\n",
    "# print(b) "
   ]
  },
  {
   "cell_type": "code",
   "execution_count": 3,
   "metadata": {},
   "outputs": [
    {
     "name": "stdout",
     "output_type": "stream",
     "text": [
      "Enter r = 2\n",
      "Enter c = 3\n",
      "Enter x = 3\n",
      "Enter x = 34\n",
      "Enter x = 32\n",
      "Enter x = 432\n",
      "Enter x = 32\n",
      "Enter x = 43\n",
      "[[3, 34, 32], [432, 32, 43]]\n"
     ]
    }
   ],
   "source": [
    "t = []\n",
    "r = int(input(\"Enter r = \"))\n",
    "c = int(input(\"Enter c = \"))\n",
    "for i in range(r):\n",
    "    z = []\n",
    "    \n",
    "    for j in range(c):\n",
    "        x = int(input(\"Enter x = \"))\n",
    "        z = z+[x]\n",
    "    t = t+[z] \n",
    "print(t)"
   ]
  },
  {
   "cell_type": "code",
   "execution_count": null,
   "metadata": {},
   "outputs": [],
   "source": [
    "# lambda <arguments>:<expression>\n"
   ]
  },
  {
   "cell_type": "code",
   "execution_count": 2,
   "metadata": {},
   "outputs": [
    {
     "name": "stdout",
     "output_type": "stream",
     "text": [
      "The total mul =  20\n"
     ]
    }
   ],
   "source": [
    "x = lambda a,b:a*b\n",
    "print(\"The total mul = \",x(4,5))\n"
   ]
  },
  {
   "cell_type": "code",
   "execution_count": 3,
   "metadata": {},
   "outputs": [
    {
     "name": "stdout",
     "output_type": "stream",
     "text": [
      "221\n"
     ]
    }
   ],
   "source": [
    "g = lambda x,y: x+y**3\n",
    "print(g(5,6)) \n"
   ]
  },
  {
   "cell_type": "code",
   "execution_count": 7,
   "metadata": {},
   "outputs": [
    {
     "name": "stdout",
     "output_type": "stream",
     "text": [
      "[3, 123]\n",
      "[2, 4, 10, 22]\n"
     ]
    }
   ],
   "source": [
    "Lists=[1,2,3,4,10,123,22]\n",
    "\n",
    "div=list(filter(lambda x:(x%3==0),Lists))\n",
    "even=list(filter(lambda x:(x%2 == 0),Lists))\n",
    "\n",
    "print(div)\n",
    "print(even)"
   ]
  },
  {
   "cell_type": "code",
   "execution_count": 8,
   "metadata": {},
   "outputs": [
    {
     "name": "stdout",
     "output_type": "stream",
     "text": [
      "[1, 8, 27, 64, 1000, 1860867, 10648]\n"
     ]
    }
   ],
   "source": [
    "List = [1,2,3,4,10,123,22]  \n",
    "new_list = list(map(lambda x:x**3,List))\n",
    "print(new_list)\n"
   ]
  },
  {
   "cell_type": "code",
   "execution_count": 10,
   "metadata": {},
   "outputs": [
    {
     "data": {
      "text/plain": [
       "[1, 2, 3, 4, 10, 123, 22, 1, 2, 3, 4, 10, 123, 22]"
      ]
     },
     "execution_count": 10,
     "metadata": {},
     "output_type": "execute_result"
    }
   ],
   "source": [
    "List = [1,2,3,4,10,123,22]\n",
    "List*2"
   ]
  },
  {
   "cell_type": "code",
   "execution_count": 12,
   "metadata": {},
   "outputs": [
    {
     "name": "stdout",
     "output_type": "stream",
     "text": [
      "(2, 4, 6, 8, 20, 246, 44)\n"
     ]
    }
   ],
   "source": [
    "List = [1,2,3,4,10,123,22]  \n",
    "new_list = tuple(map(lambda x:x*2,List))\n",
    "print(new_list)\n"
   ]
  },
  {
   "cell_type": "code",
   "execution_count": null,
   "metadata": {},
   "outputs": [],
   "source": []
  }
 ],
 "metadata": {
  "kernelspec": {
   "display_name": "Python 3",
   "language": "python",
   "name": "python3"
  },
  "language_info": {
   "codemirror_mode": {
    "name": "ipython",
    "version": 3
   },
   "file_extension": ".py",
   "mimetype": "text/x-python",
   "name": "python",
   "nbconvert_exporter": "python",
   "pygments_lexer": "ipython3",
   "version": "3.7.1"
  }
 },
 "nbformat": 4,
 "nbformat_minor": 2
}
