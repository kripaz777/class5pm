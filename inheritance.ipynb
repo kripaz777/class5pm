{
 "cells": [
  {
   "cell_type": "code",
   "execution_count": 1,
   "metadata": {},
   "outputs": [
    {
     "name": "stdout",
     "output_type": "stream",
     "text": [
      "120.0\n"
     ]
    }
   ],
   "source": [
    "class Cal:\n",
    "    def __init__(self,p,t,r):\n",
    "        self.p = p\n",
    "        self.t = t\n",
    "        self.r = r\n",
    "        \n",
    "        \n",
    "class Calculation(Cal):\n",
    "    def calculation(self):\n",
    "        i =self.p*self.t*self.r/100\n",
    "        print(i)\n",
    "        \n",
    "obj =  Calculation(1000,3,4)\n",
    "obj.calculation()"
   ]
  },
  {
   "cell_type": "code",
   "execution_count": null,
   "metadata": {},
   "outputs": [],
   "source": [
    "class Cal:\n",
    "    def __init__(self):\n",
    "        self.p = int(input(\"Enter p = \"))\n",
    "        self.t = int(input(\"Enter t = \"))\n",
    "        self.r = int(input(\"Enter r =\"))\n",
    "        \n",
    "        \n",
    "class Calculation(Cal):\n",
    "    def calculation(self):\n",
    "        i =self.p*self.t*self.r/100\n",
    "        print(i)\n",
    "        \n",
    "obj =  Calculation()\n",
    "obj.calculation()"
   ]
  },
  {
   "cell_type": "code",
   "execution_count": 6,
   "metadata": {},
   "outputs": [
    {
     "name": "stdout",
     "output_type": "stream",
     "text": [
      "Enter h = 100\n",
      "Enter l = 12\n",
      "Enter b = 34\n",
      "408\n",
      "40800\n"
     ]
    }
   ],
   "source": [
    "class Area:\n",
    "    def __init__(self):\n",
    "        self.l = int(input(\"Enter l = \"))\n",
    "        self.b = int(input(\"Enter b = \"))\n",
    "    def area(self):\n",
    "        a = self.l*self.b\n",
    "        print(a)\n",
    "        \n",
    "class Volume(Area):\n",
    "    def __init__(self):\n",
    "        self.h = int(input('Enter h = '))\n",
    "        Area.__init__(self)\n",
    "    def volume(self):\n",
    "        v = self.l*self.b*self.h\n",
    "        print(v)\n",
    "        \n",
    "obj =  Volume()\n",
    "obj.area()\n",
    "obj.volume()"
   ]
  },
  {
   "cell_type": "code",
   "execution_count": 7,
   "metadata": {},
   "outputs": [
    {
     "name": "stdout",
     "output_type": "stream",
     "text": [
      "This is class A\n",
      "This is class B\n",
      "This is class C\n"
     ]
    }
   ],
   "source": [
    "class A:\n",
    "    print(\"This is class A\")\n",
    "\n",
    "class B(A):\n",
    "    print(\"This is class B\")\n",
    "    \n",
    "class C(B):\n",
    "    print(\"This is class C\")\n",
    "    \n",
    "obj = C()\n"
   ]
  },
  {
   "cell_type": "code",
   "execution_count": 8,
   "metadata": {},
   "outputs": [],
   "source": [
    "class A:\n",
    "    def a(self):\n",
    "        print(\"This is class A\")\n",
    "\n",
    "class B(A):\n",
    "    def b(self):\n",
    "        print(\"This is class B\")\n",
    "    \n",
    "class C(B):\n",
    "    def c(self):\n",
    "        print(\"This is class C\")\n",
    "    \n",
    "obj = C()\n"
   ]
  },
  {
   "cell_type": "code",
   "execution_count": 15,
   "metadata": {},
   "outputs": [
    {
     "name": "stdout",
     "output_type": "stream",
     "text": [
      "Hello world I am Ram I am from Kathmandu. My salary is 10000\n"
     ]
    }
   ],
   "source": [
    "class Salary:\n",
    "    def __init__(self,sal):\n",
    "        self.sal = sal\n",
    "    def salary(self):\n",
    "        print(self.sal)\n",
    "        \n",
    "class Info(Salary):\n",
    "    def __init__(self,sal,add):\n",
    "        self.add = add\n",
    "        Salary.__init__(self,sal)\n",
    "            \n",
    "    def info(self):\n",
    "        print(self.add,self.sal)\n",
    "        \n",
    "class Office(Info):\n",
    "    def __init__(self,name,sal,add):\n",
    "        self.name = name\n",
    "        Info.__init__(self,sal,add)\n",
    "    def office(self):\n",
    "        \n",
    "        print(f\"Hello world I am {self.name} I am from {self.add}. My salary is {self.sal}\")\n",
    "    \n",
    "\n",
    "obj = Office(\"Ram\",10000,\"Kathmandu\")\n",
    "obj.office()"
   ]
  },
  {
   "cell_type": "code",
   "execution_count": 16,
   "metadata": {},
   "outputs": [
    {
     "name": "stdout",
     "output_type": "stream",
     "text": [
      "Hello world I am Ram I am from Kathmandu. My salary is 10000\n"
     ]
    }
   ],
   "source": [
    "class Salary:\n",
    "    def __init__(self,sal):\n",
    "        self.sal = sal\n",
    "    def salary(self):\n",
    "        print(self.sal)\n",
    "        \n",
    "class Info:\n",
    "    def __init__(self,add):\n",
    "        self.add = add\n",
    "            \n",
    "    def info(self):\n",
    "        print(self.add)\n",
    "        \n",
    "class Office(Info,Salary):\n",
    "    def __init__(self,name,sal,add):\n",
    "        self.name = name\n",
    "        Salary.__init__(self,sal)\n",
    "        Info.__init__(self,add)\n",
    "        \n",
    "    def office(self):\n",
    "        \n",
    "        print(f\"Hello world I am {self.name} I am from {self.add}. My salary is {self.sal}\")\n",
    "    \n",
    "\n",
    "obj = Office(\"Ram\",10000,\"Kathmandu\")\n",
    "obj.office()"
   ]
  },
  {
   "cell_type": "code",
   "execution_count": 1,
   "metadata": {},
   "outputs": [
    {
     "name": "stdout",
     "output_type": "stream",
     "text": [
      "Ram\n",
      "45\n"
     ]
    }
   ],
   "source": [
    "# Public members\n",
    "class Info:\n",
    "    def __init__(self,name,age):\n",
    "        self.name = name\n",
    "        self.age = age\n",
    "        \n",
    "obj = Info(\"Ram\",45)\n",
    "print(obj.name)\n",
    "print(obj.age)"
   ]
  },
  {
   "cell_type": "code",
   "execution_count": 3,
   "metadata": {},
   "outputs": [
    {
     "name": "stdout",
     "output_type": "stream",
     "text": [
      "Ram\n",
      "45\n"
     ]
    }
   ],
   "source": [
    "# Protected members\n",
    "class Info:\n",
    "    def __init__(self,name,age):\n",
    "        self._name = name\n",
    "        self._age = age\n",
    "        \n",
    "obj = Info(\"Ram\",45)\n",
    "print(obj._name)\n",
    "print(obj._age)"
   ]
  },
  {
   "cell_type": "code",
   "execution_count": 4,
   "metadata": {},
   "outputs": [
    {
     "ename": "AttributeError",
     "evalue": "'Info' object has no attribute '__name'",
     "output_type": "error",
     "traceback": [
      "\u001b[1;31m---------------------------------------------------------------------------\u001b[0m",
      "\u001b[1;31mAttributeError\u001b[0m                            Traceback (most recent call last)",
      "\u001b[1;32m<ipython-input-4-94d8b0628dc2>\u001b[0m in \u001b[0;36m<module>\u001b[1;34m\u001b[0m\n\u001b[0;32m      6\u001b[0m \u001b[1;33m\u001b[0m\u001b[0m\n\u001b[0;32m      7\u001b[0m \u001b[0mobj\u001b[0m \u001b[1;33m=\u001b[0m \u001b[0mInfo\u001b[0m\u001b[1;33m(\u001b[0m\u001b[1;34m\"Ram\"\u001b[0m\u001b[1;33m,\u001b[0m\u001b[1;36m45\u001b[0m\u001b[1;33m)\u001b[0m\u001b[1;33m\u001b[0m\u001b[1;33m\u001b[0m\u001b[0m\n\u001b[1;32m----> 8\u001b[1;33m \u001b[0mprint\u001b[0m\u001b[1;33m(\u001b[0m\u001b[0mobj\u001b[0m\u001b[1;33m.\u001b[0m\u001b[0m__name\u001b[0m\u001b[1;33m)\u001b[0m\u001b[1;33m\u001b[0m\u001b[1;33m\u001b[0m\u001b[0m\n\u001b[0m\u001b[0;32m      9\u001b[0m \u001b[0mprint\u001b[0m\u001b[1;33m(\u001b[0m\u001b[0mobj\u001b[0m\u001b[1;33m.\u001b[0m\u001b[0m__age\u001b[0m\u001b[1;33m)\u001b[0m\u001b[1;33m\u001b[0m\u001b[1;33m\u001b[0m\u001b[0m\n",
      "\u001b[1;31mAttributeError\u001b[0m: 'Info' object has no attribute '__name'"
     ]
    }
   ],
   "source": [
    "# Private members\n",
    "class Info:\n",
    "    def __init__(self,name,age):\n",
    "        self.__name = name\n",
    "        self.__age = age\n",
    "        \n",
    "obj = Info(\"Ram\",45)\n",
    "print(obj.__name)\n",
    "print(obj.__age)"
   ]
  },
  {
   "cell_type": "code",
   "execution_count": 5,
   "metadata": {},
   "outputs": [
    {
     "name": "stdout",
     "output_type": "stream",
     "text": [
      "Ram\n",
      "45\n"
     ]
    }
   ],
   "source": [
    "# Private members\n",
    "class Info:\n",
    "    def __init__(self,name,age):\n",
    "        self.__name = name\n",
    "        self.__age = age\n",
    "        \n",
    "obj = Info(\"Ram\",45)\n",
    "print(obj._Info__name)\n",
    "print(obj._Info__age)"
   ]
  },
  {
   "cell_type": "code",
   "execution_count": 9,
   "metadata": {},
   "outputs": [
    {
     "name": "stdout",
     "output_type": "stream",
     "text": [
      "Hello world I am Kathmandu I am from 10000.\n"
     ]
    }
   ],
   "source": [
    "class Info:\n",
    "    def __init__(self,sal,add,name):\n",
    "        self._add = add\n",
    "        self.__sal = sal\n",
    "        self.name = name\n",
    "            \n",
    "    def info(self):\n",
    "        print(\"My salary is {self.__sal}\")\n",
    "        \n",
    "class Office(Info):\n",
    "    \n",
    "    def office(self):\n",
    "        \n",
    "        print(f\"Hello world I am {self.name} I am from {self._add}.\")\n",
    "    \n",
    "\n",
    "obj = Office(\"Ram\",10000,\"Kathmandu\")\n",
    "obj.office()"
   ]
  },
  {
   "cell_type": "code",
   "execution_count": 12,
   "metadata": {},
   "outputs": [
    {
     "name": "stdout",
     "output_type": "stream",
     "text": [
      "Hello world I am Ram I am from Kathmandu. My salary is 10000\n",
      "Ram\n",
      "Kathmandu\n",
      "10000\n"
     ]
    }
   ],
   "source": [
    "class Info:\n",
    "    def __init__(self,name,sal,add):\n",
    "        self._add = add\n",
    "        self.__sal = sal\n",
    "        self.name = name\n",
    "            \n",
    "    def info(self):\n",
    "        print(\"My salary is {self.__sal}\")\n",
    "        \n",
    "class Office(Info):\n",
    "    \n",
    "    def office(self):\n",
    "        \n",
    "        print(f\"Hello world I am {self.name} I am from {self._add}. My salary is {self._Info__sal}\")\n",
    "    \n",
    "\n",
    "obj = Office(\"Ram\",10000,\"Kathmandu\")\n",
    "obj.office()\n",
    "print(obj.name)\n",
    "print(obj._add)\n",
    "print(obj._Info__sal)"
   ]
  },
  {
   "cell_type": "code",
   "execution_count": 14,
   "metadata": {},
   "outputs": [
    {
     "name": "stdout",
     "output_type": "stream",
     "text": [
      "Hello world I am Ram I am from Kathmandu. My salary is 10000\n",
      "Ram\n",
      "Kathmandu\n",
      "10000\n"
     ]
    }
   ],
   "source": [
    "class Info:\n",
    "    def __init__(self,name,sal,add):\n",
    "        self._add = add\n",
    "        self.__sal = sal\n",
    "        self.name = name\n",
    "            \n",
    "    def info(self):\n",
    "        return self.__sal\n",
    "        \n",
    "class Office(Info):\n",
    "    \n",
    "    def office(self):\n",
    "        \n",
    "        #print(f\"Hello world I am {self.name} I am from {self._add}. My salary is {Info.info(self)}\")\n",
    "        print(f\"Hello world I am {self.name} I am from {self._add}. My salary is {super().info()}\")\n",
    "    \n",
    "\n",
    "obj = Office(\"Ram\",10000,\"Kathmandu\")\n",
    "obj.office()\n",
    "print(obj.name)\n",
    "print(obj._add)\n",
    "print(obj._Info__sal)"
   ]
  },
  {
   "cell_type": "code",
   "execution_count": 3,
   "metadata": {},
   "outputs": [
    {
     "name": "stdout",
     "output_type": "stream",
     "text": [
      "Kathmandu Ram\n"
     ]
    }
   ],
   "source": [
    "class Salary:\n",
    "    def __init__(self,sal):\n",
    "        self._sal = sal\n",
    "    def salary(self):\n",
    "        print(self.sal)\n",
    "        \n",
    "class Info:\n",
    "    def __init__(self,add):\n",
    "        self._add = add\n",
    "            \n",
    "    def info(self):\n",
    "        print(self.add,self.name)\n",
    "        \n",
    "class Office(Info,Salary):\n",
    "    def __init__(self,name,sal,add):\n",
    "        self.__name = name\n",
    "        Salary.__init__(self,sal)\n",
    "        Info.__init__(self,add)\n",
    "        \n",
    "    def office(self):\n",
    "        \n",
    "        print(f\"Hello world I am {self.__name} I am from {self._add}. My salary is {self._sal}\")\n",
    "    \n",
    "\n",
    "obj = Office(\"Ram\",10000,\"Kathmandu\")\n",
    "obj.info()"
   ]
  },
  {
   "cell_type": "code",
   "execution_count": null,
   "metadata": {},
   "outputs": [],
   "source": [
    "class Salary:\n",
    "    def __init__(self,sal):\n",
    "        self._sal = sal\n",
    "    def salary(self):\n",
    "        print(self.sal)\n",
    "        \n",
    "class Info(Salary):\n",
    "    def __init__(self,sal,add):\n",
    "        self._add = add\n",
    "        Salary.__init__(self,sal)\n",
    "            \n",
    "    def info(self):\n",
    "        print(self.add,self.sal)\n",
    "        \n",
    "class Office(Info):\n",
    "    def __init__(self,name,sal,add):\n",
    "        self.__name = name\n",
    "        Info.__init__(self,sal,add)\n",
    "    def office(self):\n",
    "        \n",
    "        print(f\"Hello world I am {self.__name} I am from {self._add}. My salary is {self._sal}\")\n",
    "    \n",
    "\n",
    "obj = Office(\"Ram\",10000,\"Kathmandu\")\n",
    "obj.office()"
   ]
  },
  {
   "cell_type": "code",
   "execution_count": null,
   "metadata": {},
   "outputs": [],
   "source": []
  }
 ],
 "metadata": {
  "kernelspec": {
   "display_name": "Python 3",
   "language": "python",
   "name": "python3"
  },
  "language_info": {
   "codemirror_mode": {
    "name": "ipython",
    "version": 3
   },
   "file_extension": ".py",
   "mimetype": "text/x-python",
   "name": "python",
   "nbconvert_exporter": "python",
   "pygments_lexer": "ipython3",
   "version": "3.7.1"
  }
 },
 "nbformat": 4,
 "nbformat_minor": 2
}
