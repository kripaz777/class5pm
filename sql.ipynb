{
 "cells": [
  {
   "cell_type": "code",
   "execution_count": 6,
   "metadata": {},
   "outputs": [],
   "source": [
    "import mysql.connector  \t\t#importing database\n",
    "database = mysql.connector.connect(\n",
    "    host=\"localhost\",\n",
    "    user=\"root\",\n",
    "    password=\"\",\n",
    "    database = \"class5pm\"\n",
    ")\n",
    "db = database.cursor()"
   ]
  },
  {
   "cell_type": "code",
   "execution_count": 4,
   "metadata": {},
   "outputs": [
    {
     "name": "stdout",
     "output_type": "stream",
     "text": [
      "(1, 'Ram', 78, 89, 78, 90, 72, 412, 80.0, 'A')\n",
      "(2, 'Rama', 75, 83, 79, 92, 74, 450, 85.0, 'A')\n",
      "(3, 'Shyam', 85, 93, 89, 92, 74, 480, 90.0, 'A')\n",
      "(4, 'Nabin', 77, 88, 70, 92, 74, 440, 83.0, 'A')\n"
     ]
    }
   ],
   "source": [
    "db.execute(\"SELECT * FROM student\")\n",
    "result =db.fetchall()\n",
    "for x in result:\n",
    "    print(x)\n"
   ]
  },
  {
   "cell_type": "code",
   "execution_count": 5,
   "metadata": {},
   "outputs": [
    {
     "name": "stdout",
     "output_type": "stream",
     "text": [
      "(1, 'Ram', 'A')\n",
      "(2, 'Rama', 'A')\n",
      "(3, 'Shyam', 'A')\n",
      "(4, 'Nabin', 'A')\n"
     ]
    }
   ],
   "source": [
    "db.execute(\"SELECT id,name,grade FROM student\")\n",
    "result =db.fetchall()\n",
    "for x in result:\n",
    "    print(x)\n"
   ]
  },
  {
   "cell_type": "code",
   "execution_count": 6,
   "metadata": {},
   "outputs": [
    {
     "name": "stdout",
     "output_type": "stream",
     "text": [
      "(1, 'Ram', 78, 89, 78, 90, 72, 412, 80.0, 'A')\n",
      "(3, 'Shyam', 85, 93, 89, 92, 74, 480, 90.0, 'A')\n"
     ]
    }
   ],
   "source": [
    "db.execute(\"SELECT * FROM student WHERE name = 'Ram' or name = 'Shyam'\")\n",
    "result =db.fetchall()\n",
    "for x in result:\n",
    "    print(x)\n"
   ]
  },
  {
   "cell_type": "code",
   "execution_count": 10,
   "metadata": {},
   "outputs": [
    {
     "name": "stdout",
     "output_type": "stream",
     "text": [
      "(1, 'Ram', 78, 89, 78, 90, 72, 412, 80.0, 'A')\n",
      "(2, 'Rama', 75, 83, 79, 92, 74, 450, 85.0, 'A')\n",
      "(4, 'Nabin', 77, 88, 70, 92, 74, 440, 83.0, 'A')\n"
     ]
    }
   ],
   "source": [
    "db.execute(\"SELECT * FROM student WHERE grade = 'A'\")\n",
    "result =db.fetchall()\n",
    "for x in result:\n",
    "    print(x)\n"
   ]
  },
  {
   "cell_type": "code",
   "execution_count": 13,
   "metadata": {},
   "outputs": [
    {
     "name": "stdout",
     "output_type": "stream",
     "text": [
      "1 record inserted.\n"
     ]
    }
   ],
   "source": [
    "sql = \"INSERT INTO student (name, physics, chemistry, math, english, nepali, total, per,grade) VALUES ('Sabina', '78', '89', '78', '90', '72', '412', '80.0', 'A');\"\n",
    "db.execute(sql)\n",
    "database.commit()\n",
    "print(db.rowcount, \"record inserted.\")\n"
   ]
  },
  {
   "cell_type": "code",
   "execution_count": 15,
   "metadata": {},
   "outputs": [
    {
     "name": "stdout",
     "output_type": "stream",
     "text": [
      "Enter n =  1\n",
      "Enter name = Akash\n",
      "Enter physics marks  = 89\n",
      "Enter chemistry marks  = 98\n",
      "Enter math marks  = 78\n",
      "Enter english marks  = 87\n",
      "Enter nepali marks  = 90\n"
     ]
    }
   ],
   "source": [
    "n = int(input(\"Enter n =  \"))\n",
    "for i in range(n):\n",
    "    name = input(\"Enter name = \")\n",
    "    physics = int(input(\"Enter physics marks  = \"))\n",
    "    chemistry = int(input(\"Enter chemistry marks  = \"))\n",
    "    math = int(input(\"Enter math marks  = \"))\n",
    "    english = int(input(\"Enter english marks  = \"))\n",
    "    nepali = int(input(\"Enter nepali marks  = \"))\n",
    "    total = sum([physics,chemistry,math,english,nepali])\n",
    "    per = total/5\n",
    "    if per>=80:\n",
    "        grade = 'A'\n",
    "    elif per >=60:\n",
    "        grade = 'B'\n",
    "    elif per >= 50:\n",
    "        grade = 'C'\n",
    "    else:\n",
    "        grade = 'D'\n",
    "    \n",
    "    sql = f\"INSERT INTO student (name, physics, chemistry, math, english, nepali, total, per,grade) VALUES ('{name}', {physics}, {chemistry}, {math}, {english}, {nepali}, {total}, {per},'{grade}')\"\n",
    "    db.execute(sql)\n",
    "    \n",
    "database.commit()\n"
   ]
  },
  {
   "cell_type": "code",
   "execution_count": 16,
   "metadata": {},
   "outputs": [],
   "source": [
    "sql = \"DELETE FROM student WHERE id = 2\"\n",
    "db.execute(sql) \n",
    "database.commit()"
   ]
  },
  {
   "cell_type": "code",
   "execution_count": null,
   "metadata": {},
   "outputs": [],
   "source": [
    "id = int(input(\"Enter id = \"))\n",
    "sql = f\"DELETE FROM student WHERE id = {id}\"\n",
    "db.execute(sql) \n",
    "database.commit()"
   ]
  },
  {
   "cell_type": "code",
   "execution_count": 3,
   "metadata": {},
   "outputs": [
    {
     "name": "stdout",
     "output_type": "stream",
     "text": [
      "Enter field (id,grade,name)= name\n",
      "Enter value = Akash\n"
     ]
    }
   ],
   "source": [
    "field = input(\"Enter field (id,grade,name)= \")\n",
    "value = input(\"Enter value = \")\n",
    "\n",
    "sql = f\"DELETE FROM student WHERE {field} = '{value}'\"\n",
    "db.execute(sql) \n",
    "database.commit()"
   ]
  },
  {
   "cell_type": "code",
   "execution_count": 7,
   "metadata": {},
   "outputs": [
    {
     "name": "stdout",
     "output_type": "stream",
     "text": [
      "Enter nameRabina\n",
      "Enter id = 6\n"
     ]
    }
   ],
   "source": [
    "name = input(\"Enter name\")\n",
    "id = int(input(\"Enter id = \"))\n",
    "\n",
    "sql = f\"UPDATE student SET name = '{name}' WHERE id = {id}\"\n",
    "db.execute(sql) \n",
    "database.commit()"
   ]
  },
  {
   "cell_type": "code",
   "execution_count": null,
   "metadata": {},
   "outputs": [],
   "source": []
  }
 ],
 "metadata": {
  "kernelspec": {
   "display_name": "Python 3",
   "language": "python",
   "name": "python3"
  },
  "language_info": {
   "codemirror_mode": {
    "name": "ipython",
    "version": 3
   },
   "file_extension": ".py",
   "mimetype": "text/x-python",
   "name": "python",
   "nbconvert_exporter": "python",
   "pygments_lexer": "ipython3",
   "version": "3.7.1"
  }
 },
 "nbformat": 4,
 "nbformat_minor": 2
}
