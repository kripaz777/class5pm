{
 "cells": [
  {
   "cell_type": "code",
   "execution_count": 1,
   "metadata": {},
   "outputs": [],
   "source": [
    "# for loop\n",
    "# While Loop\n",
    "\n"
   ]
  },
  {
   "cell_type": "code",
   "execution_count": 2,
   "metadata": {},
   "outputs": [],
   "source": [
    "# # for loop\n",
    "# range(5)        (0,1,2,3,4)  for(i = 0; i<5; i++)\n",
    "# range(1,5)      (1,2,3,4)    for(i = 1; i<5; i++)\n",
    "# range(1,5,2)    (1,3)        for(i = 1; i<5; i = i+2)"
   ]
  },
  {
   "cell_type": "code",
   "execution_count": 3,
   "metadata": {},
   "outputs": [
    {
     "name": "stdout",
     "output_type": "stream",
     "text": [
      "Hello World\n",
      "Hello World\n",
      "Hello World\n",
      "Hello World\n",
      "Hello World\n"
     ]
    }
   ],
   "source": [
    "for i in range(5):\n",
    "    print(\"Hello World\")"
   ]
  },
  {
   "cell_type": "code",
   "execution_count": 4,
   "metadata": {},
   "outputs": [
    {
     "name": "stdout",
     "output_type": "stream",
     "text": [
      "0 Hello World\n",
      "1 Hello World\n",
      "2 Hello World\n",
      "3 Hello World\n",
      "4 Hello World\n"
     ]
    }
   ],
   "source": [
    "for i in range(5):\n",
    "    print(i,\"Hello World\")"
   ]
  },
  {
   "cell_type": "code",
   "execution_count": 5,
   "metadata": {},
   "outputs": [
    {
     "name": "stdout",
     "output_type": "stream",
     "text": [
      "1 Hello World\n",
      "2 Hello World\n",
      "3 Hello World\n",
      "4 Hello World\n"
     ]
    }
   ],
   "source": [
    "for i in range(1,5):\n",
    "    print(i,\"Hello World\")"
   ]
  },
  {
   "cell_type": "code",
   "execution_count": 6,
   "metadata": {},
   "outputs": [
    {
     "name": "stdout",
     "output_type": "stream",
     "text": [
      "1 Hello World\n",
      "3 Hello World\n"
     ]
    }
   ],
   "source": [
    "for i in range(1,5,2):\n",
    "    print(i,\"Hello World\")"
   ]
  },
  {
   "cell_type": "code",
   "execution_count": 7,
   "metadata": {},
   "outputs": [
    {
     "name": "stdout",
     "output_type": "stream",
     "text": [
      "Enter n = 5\n",
      "5\n",
      "10\n",
      "15\n",
      "20\n",
      "25\n",
      "30\n",
      "35\n",
      "40\n",
      "45\n",
      "50\n"
     ]
    }
   ],
   "source": [
    "n = int(input(\"Enter n = \"))\n",
    "for i in range(1,11):\n",
    "    print(n*i)"
   ]
  },
  {
   "cell_type": "code",
   "execution_count": 8,
   "metadata": {},
   "outputs": [
    {
     "name": "stdout",
     "output_type": "stream",
     "text": [
      "Enter n = 5\n",
      "5 * 1 = 5\n",
      "5 * 2 = 10\n",
      "5 * 3 = 15\n",
      "5 * 4 = 20\n",
      "5 * 5 = 25\n",
      "5 * 6 = 30\n",
      "5 * 7 = 35\n",
      "5 * 8 = 40\n",
      "5 * 9 = 45\n",
      "5 * 10 = 50\n"
     ]
    }
   ],
   "source": [
    "n = int(input(\"Enter n = \"))\n",
    "for i in range(1,11):\n",
    "    print(n,\"*\",i,\"=\",n*i)"
   ]
  },
  {
   "cell_type": "code",
   "execution_count": 9,
   "metadata": {},
   "outputs": [
    {
     "name": "stdout",
     "output_type": "stream",
     "text": [
      "2\n",
      "4\n",
      "6\n",
      "8\n",
      "10\n",
      "12\n",
      "14\n",
      "16\n",
      "18\n",
      "20\n"
     ]
    }
   ],
   "source": [
    "for i in range(1,21):\n",
    "    if i%2 ==0:\n",
    "        print(i)"
   ]
  },
  {
   "cell_type": "code",
   "execution_count": 10,
   "metadata": {},
   "outputs": [
    {
     "name": "stdout",
     "output_type": "stream",
     "text": [
      "1\n",
      "3\n",
      "5\n",
      "7\n",
      "9\n",
      "11\n",
      "13\n",
      "15\n",
      "17\n",
      "19\n"
     ]
    }
   ],
   "source": [
    "for i in range(1,21):\n",
    "    if i%2 !=0:\n",
    "        print(i)"
   ]
  },
  {
   "cell_type": "code",
   "execution_count": 13,
   "metadata": {},
   "outputs": [
    {
     "name": "stdout",
     "output_type": "stream",
     "text": [
      "Enter n = 3\n",
      "Enter name = Ram\n",
      "Enter name = Shyam\n",
      "Enter name = Hari\n",
      "Ram\n",
      "Shyam\n",
      "Hari\n",
      "\n"
     ]
    }
   ],
   "source": [
    "s = str()\n",
    "n = int(input(\"Enter n = \"))\n",
    "for i in range(n):\n",
    "    name = input(\"Enter name = \")\n",
    "    s = s+name+\"\\n\"\n",
    "    \n",
    "print(s)"
   ]
  },
  {
   "cell_type": "code",
   "execution_count": 17,
   "metadata": {},
   "outputs": [
    {
     "name": "stdout",
     "output_type": "stream",
     "text": [
      "Enter n = 5\n",
      "Enter x = 243\n",
      "Enter x = 3434\n",
      "Enter x = 2412\n",
      "Enter x = 454\n",
      "Enter x = 34243\n",
      "The sum is =  40786\n",
      "The average =  8157.2\n"
     ]
    }
   ],
   "source": [
    "s = 0\n",
    "n = int(input(\"Enter n = \"))\n",
    "for i in range(n):\n",
    "    x = int(input(\"Enter x = \"))\n",
    "    s = s+x\n",
    "    \n",
    "print(\"The sum is = \",s)\n",
    "print(\"The average = \",s/n)"
   ]
  },
  {
   "cell_type": "code",
   "execution_count": 20,
   "metadata": {},
   "outputs": [],
   "source": [
    "# factorial 4! = 1*2*3*4*5"
   ]
  },
  {
   "cell_type": "code",
   "execution_count": 22,
   "metadata": {},
   "outputs": [
    {
     "name": "stdout",
     "output_type": "stream",
     "text": [
      "Enter n = 5\n",
      "1\n",
      "2\n",
      "6\n",
      "24\n",
      "120\n"
     ]
    }
   ],
   "source": [
    "fac = 1\n",
    "n = int(input(\"Enter n = \"))\n",
    "for i in range(1,n+1):\n",
    "    fac = fac*i\n",
    "    \n",
    "    print(fac)"
   ]
  },
  {
   "cell_type": "code",
   "execution_count": 24,
   "metadata": {},
   "outputs": [
    {
     "name": "stdout",
     "output_type": "stream",
     "text": [
      "*\n",
      "**\n",
      "***\n",
      "****\n"
     ]
    }
   ],
   "source": [
    "for i in range(1,5):\n",
    "    print(i*\"*\")"
   ]
  },
  {
   "cell_type": "code",
   "execution_count": 25,
   "metadata": {},
   "outputs": [
    {
     "name": "stdout",
     "output_type": "stream",
     "text": [
      "P\n",
      "y\n",
      "t\n",
      "h\n",
      "o\n",
      "n\n"
     ]
    }
   ],
   "source": [
    "a = \"Python\"\n",
    "for i in a:\n",
    "    print(i)"
   ]
  },
  {
   "cell_type": "code",
   "execution_count": 26,
   "metadata": {},
   "outputs": [
    {
     "name": "stdout",
     "output_type": "stream",
     "text": [
      "P Hello World\n",
      "y Hello World\n",
      "t Hello World\n",
      "h Hello World\n",
      "o Hello World\n",
      "n Hello World\n"
     ]
    }
   ],
   "source": [
    "a = \"Python\"\n",
    "for i in a:\n",
    "    print(i,\"Hello World\")"
   ]
  },
  {
   "cell_type": "code",
   "execution_count": 30,
   "metadata": {},
   "outputs": [
    {
     "name": "stdout",
     "output_type": "stream",
     "text": [
      "RamShyamHariSita"
     ]
    }
   ],
   "source": [
    "a = \"Ram Shyam Hari Sita\"\n",
    "for i in a:\n",
    "    if i != \" \":\n",
    "        print(i,end = \"\")"
   ]
  },
  {
   "cell_type": "code",
   "execution_count": 31,
   "metadata": {},
   "outputs": [],
   "source": [
    "# control statement\n",
    "# break\n",
    "# continue\n",
    "# pass"
   ]
  },
  {
   "cell_type": "code",
   "execution_count": 32,
   "metadata": {},
   "outputs": [
    {
     "name": "stdout",
     "output_type": "stream",
     "text": [
      "0\n",
      "1\n",
      "2\n",
      "3\n",
      "4\n"
     ]
    }
   ],
   "source": [
    "for i in range(10):\n",
    "    if i == 5:\n",
    "        break\n",
    "    print(i)"
   ]
  },
  {
   "cell_type": "code",
   "execution_count": 33,
   "metadata": {},
   "outputs": [
    {
     "name": "stdout",
     "output_type": "stream",
     "text": [
      "0\n",
      "1\n",
      "2\n",
      "3\n",
      "4\n",
      "6\n",
      "7\n",
      "8\n",
      "9\n"
     ]
    }
   ],
   "source": [
    "for i in range(10):\n",
    "    if i == 5:\n",
    "        continue\n",
    "    print(i)"
   ]
  },
  {
   "cell_type": "code",
   "execution_count": 2,
   "metadata": {},
   "outputs": [
    {
     "name": "stdout",
     "output_type": "stream",
     "text": [
      "Ram"
     ]
    }
   ],
   "source": [
    "a = \"Ram Shyam Hari Sita\"\n",
    "for i in a:\n",
    "    if i == \" \":\n",
    "        break\n",
    "    print(i,end = \"\")"
   ]
  },
  {
   "cell_type": "code",
   "execution_count": 3,
   "metadata": {},
   "outputs": [
    {
     "name": "stdout",
     "output_type": "stream",
     "text": [
      "RamShyamHariSita"
     ]
    }
   ],
   "source": [
    "a = \"Ram Shyam Hari Sita\"\n",
    "for i in a:\n",
    "    if i == \" \":\n",
    "        continue\n",
    "    print(i,end = \"\")"
   ]
  },
  {
   "cell_type": "code",
   "execution_count": null,
   "metadata": {},
   "outputs": [],
   "source": [
    "# 2,3,5,7,11,13,17,19,\n",
    "# 4,6,8,9,10,12,\n",
    "\n",
    "n = int(input(\"Enter n = \"))\n",
    "for i in range(2,n):\n",
    "    if n%i==0:\n",
    "        print(\"This is composite no\")\n",
    "        break\n",
    "    else:\n",
    "        print(\"This is prime\")\n",
    "        break"
   ]
  },
  {
   "cell_type": "code",
   "execution_count": 1,
   "metadata": {},
   "outputs": [
    {
     "name": "stdout",
     "output_type": "stream",
     "text": [
      "5\n",
      "10\n",
      "15\n",
      "20\n",
      "25\n",
      "30\n",
      "35\n",
      "40\n",
      "45\n",
      "50\n"
     ]
    }
   ],
   "source": [
    "for i in range(1,51):\n",
    "    if i%5 !=0:\n",
    "        continue\n",
    "    print(i)"
   ]
  },
  {
   "cell_type": "code",
   "execution_count": 4,
   "metadata": {},
   "outputs": [
    {
     "name": "stdout",
     "output_type": "stream",
     "text": [
      "1 Hello World\n",
      "2 Hello World\n",
      "3 Hello World\n",
      "4 Hello World\n"
     ]
    }
   ],
   "source": [
    "# while loop\n",
    "a = 1\n",
    "while a<5:\n",
    "    print(a,\"Hello World\")\n",
    "    a = a+1"
   ]
  },
  {
   "cell_type": "code",
   "execution_count": 7,
   "metadata": {},
   "outputs": [
    {
     "name": "stdout",
     "output_type": "stream",
     "text": [
      "Enter n = 5\n",
      "5 * 1 = 5\n",
      "5 * 2 = 10\n",
      "5 * 3 = 15\n",
      "5 * 4 = 20\n",
      "5 * 5 = 25\n",
      "5 * 6 = 30\n",
      "5 * 7 = 35\n",
      "5 * 8 = 40\n",
      "5 * 9 = 45\n",
      "5 * 10 = 50\n"
     ]
    }
   ],
   "source": [
    "a = 1\n",
    "n = int(input(\"Enter n = \"))\n",
    "while a<=10: \n",
    "    print(n,\"*\",a,\"=\",n*a)\n",
    "    a +=1"
   ]
  },
  {
   "cell_type": "code",
   "execution_count": 1,
   "metadata": {},
   "outputs": [
    {
     "name": "stdout",
     "output_type": "stream",
     "text": [
      "Enter n = 2\n",
      "Enter name = Ram\n",
      "Enter phone 986677654\n",
      "Enter name = Shyam\n",
      "Enter phone 986766565\n",
      "Ram 986677654\n",
      "Shyam 986766565\n",
      "\n"
     ]
    }
   ],
   "source": [
    "s = str()\n",
    "i = 0\n",
    "n = int(input(\"Enter n = \"))\n",
    "while i<n:\n",
    "    name = input(\"Enter name = \")\n",
    "    phone = input(\"Enter phone \")\n",
    "    s = s+name+\" \"+phone+\"\\n\"\n",
    "    i = i+1\n",
    "print(s)"
   ]
  },
  {
   "cell_type": "code",
   "execution_count": 2,
   "metadata": {},
   "outputs": [
    {
     "name": "stdout",
     "output_type": "stream",
     "text": [
      "Enter n = 5\n",
      "Enter x = 234\n",
      "Enter x = 345\n",
      "Enter x = 234\n",
      "Enter x = 35\n",
      "Enter x = 23\n",
      "The sum is =  871\n",
      "The average =  174.2\n"
     ]
    }
   ],
   "source": [
    "s = 0\n",
    "i = 0\n",
    "n = int(input(\"Enter n = \"))\n",
    "while i<n:\n",
    "    x = int(input(\"Enter x = \"))\n",
    "    s = s+x\n",
    "    i = i+1\n",
    "print(\"The sum is = \",s)\n",
    "print(\"The average = \",s/n)"
   ]
  },
  {
   "cell_type": "code",
   "execution_count": 1,
   "metadata": {},
   "outputs": [
    {
     "name": "stdout",
     "output_type": "stream",
     "text": [
      "P\n",
      "y\n",
      "t\n",
      "h\n",
      "o\n",
      "n\n"
     ]
    }
   ],
   "source": [
    "a = \"Python\"\n",
    "l = len(a)\n",
    "i = 0\n",
    "while i<l:\n",
    "    print(a[i])\n",
    "    i = i+1"
   ]
  },
  {
   "cell_type": "code",
   "execution_count": 4,
   "metadata": {},
   "outputs": [
    {
     "name": "stdout",
     "output_type": "stream",
     "text": [
      "Hello World "
     ]
    }
   ],
   "source": [
    "a = \"Hello World I am Python\"\n",
    "l = len(a)\n",
    "i = 0\n",
    "while i<l:\n",
    "    if a[i] == \"I\":\n",
    "        break\n",
    "    print(a[i],end = \"\")\n",
    "    i = i+1"
   ]
  },
  {
   "cell_type": "code",
   "execution_count": 2,
   "metadata": {},
   "outputs": [
    {
     "name": "stdout",
     "output_type": "stream",
     "text": [
      "Hello World  am Python"
     ]
    }
   ],
   "source": [
    "a = \"Hello World I am Python\"\n",
    "l = len(a)\n",
    "i = 0\n",
    "while i<l:\n",
    "    if a[i] == \"I\":\n",
    "        i = i+1\n",
    "        continue\n",
    "    print(a[i],end = \"\")\n",
    "    i = i+1"
   ]
  },
  {
   "cell_type": "code",
   "execution_count": 4,
   "metadata": {},
   "outputs": [
    {
     "name": "stdout",
     "output_type": "stream",
     "text": [
      "Enter n = 11\n",
      "This is prime\n"
     ]
    }
   ],
   "source": [
    "n = int(input(\"Enter n = \"))\n",
    "i = 2\n",
    "while i<n:\n",
    "    if n%i==0:\n",
    "        print(\"This is composite no\")\n",
    "        break\n",
    "    else:\n",
    "        print(\"This is prime\")\n",
    "        break"
   ]
  },
  {
   "cell_type": "code",
   "execution_count": null,
   "metadata": {},
   "outputs": [],
   "source": [
    "# 0,1,1,2,3,5,8,13,....\n",
    "# Shape of Nepal Flag\n",
    "# WAP for a billing system"
   ]
  },
  {
   "cell_type": "code",
   "execution_count": 6,
   "metadata": {},
   "outputs": [
    {
     "name": "stdout",
     "output_type": "stream",
     "text": [
      "1\n",
      "1\n",
      "2\n",
      "1\n",
      "1\n",
      "2\n",
      "1\n",
      "1\n",
      "2\n",
      "1\n",
      "1\n",
      "2\n",
      "1\n",
      "1\n",
      "2\n"
     ]
    }
   ],
   "source": [
    "# 0,1,1,2,3,5,8,13,....\n",
    "for i in range(5):\n",
    "    y = 0\n",
    "    z = y\n",
    "    x = y+z\n",
    "    print(x)"
   ]
  },
  {
   "cell_type": "code",
   "execution_count": null,
   "metadata": {},
   "outputs": [],
   "source": []
  }
 ],
 "metadata": {
  "kernelspec": {
   "display_name": "Python 3",
   "language": "python",
   "name": "python3"
  },
  "language_info": {
   "codemirror_mode": {
    "name": "ipython",
    "version": 3
   },
   "file_extension": ".py",
   "mimetype": "text/x-python",
   "name": "python",
   "nbconvert_exporter": "python",
   "pygments_lexer": "ipython3",
   "version": "3.7.1"
  }
 },
 "nbformat": 4,
 "nbformat_minor": 2
}
