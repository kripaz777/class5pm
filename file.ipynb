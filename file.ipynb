{
 "cells": [
  {
   "cell_type": "code",
   "execution_count": 1,
   "metadata": {},
   "outputs": [],
   "source": [
    "b = open('data.txt','x')\n",
    "b.close()"
   ]
  },
  {
   "cell_type": "code",
   "execution_count": 2,
   "metadata": {},
   "outputs": [
    {
     "name": "stdout",
     "output_type": "stream",
     "text": [
      "1.Hello World\n",
      "2.Hello World\n",
      "3.Hello World\n",
      "4.Hello World\n",
      "5.Hello World\n",
      "6.Hello World\n",
      "7.Hello World\n"
     ]
    }
   ],
   "source": [
    "b = open('data.txt','r')\n",
    "print(b.read())\n",
    "b.close()"
   ]
  },
  {
   "cell_type": "code",
   "execution_count": 16,
   "metadata": {},
   "outputs": [
    {
     "name": "stdout",
     "output_type": "stream",
     "text": [
      "Ram 78 Kathmandu\n",
      "Shyam 90 Patan\n",
      "\n",
      "<class 'str'>\n"
     ]
    }
   ],
   "source": [
    "b = open('data.txt','r')\n",
    "c = b.read()\n",
    "print(c)\n",
    "print(type(c))\n",
    "b.close()"
   ]
  },
  {
   "cell_type": "code",
   "execution_count": 4,
   "metadata": {},
   "outputs": [
    {
     "name": "stdout",
     "output_type": "stream",
     "text": [
      "1.Hello World\n",
      "2.Hello World\n",
      "3.Hello World\n",
      "4.Hello \n"
     ]
    }
   ],
   "source": [
    "b = open('data.txt','r')\n",
    "print(b.read(50))\n",
    "b.close()"
   ]
  },
  {
   "cell_type": "code",
   "execution_count": 7,
   "metadata": {},
   "outputs": [
    {
     "name": "stdout",
     "output_type": "stream",
     "text": [
      "2.Hello World\n",
      "\n"
     ]
    }
   ],
   "source": [
    "b = open('data.txt','r')\n",
    "b.readline()\n",
    "print(b.readline())\n",
    "b.close()"
   ]
  },
  {
   "cell_type": "code",
   "execution_count": 9,
   "metadata": {},
   "outputs": [
    {
     "name": "stdout",
     "output_type": "stream",
     "text": [
      "Enter n = 4\n",
      "4.Hello World\n",
      "\n"
     ]
    }
   ],
   "source": [
    "b = open('data.txt','r')\n",
    "n = int(input(\"Enter n = \"))\n",
    "for i in range(1,8):\n",
    "    if i != n:\n",
    "        b.readline()\n",
    "    else:\n",
    "        print(b.readline())\n",
    "b.close()"
   ]
  },
  {
   "cell_type": "code",
   "execution_count": 10,
   "metadata": {},
   "outputs": [
    {
     "name": "stdout",
     "output_type": "stream",
     "text": [
      "Enter n = 2\n",
      "Enter name = Ram\n",
      "Enter age = 78\n",
      "Enter add = Kathmandu\n",
      "Enter name = Shyam\n",
      "Enter age = 90\n",
      "Enter add = Patan\n",
      "Ram 78 Kathmandu\n",
      "Shyam 90 Patan\n",
      "\n"
     ]
    }
   ],
   "source": [
    "s = str()\n",
    "n = int(input(\"Enter n = \"))\n",
    "for i in range(n):\n",
    "    name = input(\"Enter name = \")\n",
    "    age = int(input(\"Enter age = \"))\n",
    "    add = input(\"Enter add = \")\n",
    "    info = f\"{name} {age} {add}\\n\"\n",
    "    s = s+info\n",
    "    \n",
    "print(s)\n",
    "\n",
    "b = open('data.txt','w')\n",
    "b.write(s)\n",
    "b.close()"
   ]
  },
  {
   "cell_type": "code",
   "execution_count": 14,
   "metadata": {},
   "outputs": [
    {
     "name": "stdout",
     "output_type": "stream",
     "text": [
      "Enter n = 2\n",
      "Enter name = Ram\n",
      "Enter age = 34\n",
      "Enter add = Kathmandu\n",
      "Enter name = Shyam\n",
      "Enter age = 56\n",
      "Enter add = Patan\n",
      "Ram,34,Kathmandu\n",
      "Shyam,56,Patan\n",
      "\n"
     ]
    }
   ],
   "source": [
    "s = str()\n",
    "b = open('data.csv','w')\n",
    "b.write(\"Name,Age,Address\\n\")\n",
    "n = int(input(\"Enter n = \"))\n",
    "for i in range(n):\n",
    "    name = input(\"Enter name = \")\n",
    "    age = int(input(\"Enter age = \"))\n",
    "    add = input(\"Enter add = \")\n",
    "    info = f\"{name},{age},{add}\\n\"\n",
    "    s = s+info\n",
    "    \n",
    "print(s)\n",
    "\n",
    "\n",
    "b.write(s)\n",
    "b.close()"
   ]
  },
  {
   "cell_type": "code",
   "execution_count": 15,
   "metadata": {},
   "outputs": [
    {
     "name": "stdout",
     "output_type": "stream",
     "text": [
      "Enter n = 2\n",
      "Enter name = Ram\n",
      "Enter age = 67\n",
      "Enter add = Kathmandu\n",
      "Enter name = Shyam\n",
      "Enter age = 34\n",
      "Enter add = Patan\n",
      "\n"
     ]
    }
   ],
   "source": [
    "s = str()\n",
    "b = open('data1.csv','a')\n",
    "b.write(\"Name,Age,Address\\n\")\n",
    "n = int(input(\"Enter n = \"))\n",
    "for i in range(n):\n",
    "    name = input(\"Enter name = \")\n",
    "    age = int(input(\"Enter age = \"))\n",
    "    add = input(\"Enter add = \")\n",
    "    info = f\"{name},{age},{add}\\n\"\n",
    "    b.write(info)\n",
    "    \n",
    "print(s)\n",
    "\n",
    "\n",
    "\n",
    "b.close()"
   ]
  },
  {
   "cell_type": "code",
   "execution_count": 17,
   "metadata": {},
   "outputs": [],
   "source": [
    "import os\n",
    "os.remove('data1.csv')"
   ]
  },
  {
   "cell_type": "code",
   "execution_count": 21,
   "metadata": {},
   "outputs": [
    {
     "name": "stdout",
     "output_type": "stream",
     "text": [
      "There is no file\n"
     ]
    }
   ],
   "source": [
    "import os\n",
    "if os.path.exists('data1.csv'):\n",
    "    os.remove('data1.csv')\n",
    "else:\n",
    "    print('There is no file')\n"
   ]
  },
  {
   "cell_type": "code",
   "execution_count": 22,
   "metadata": {},
   "outputs": [
    {
     "data": {
      "text/plain": [
       "'Untitled Folder/data.txt'"
      ]
     },
     "execution_count": 22,
     "metadata": {},
     "output_type": "execute_result"
    }
   ],
   "source": [
    "import shutil as s\n",
    "s.copy('data.txt','Untitled Folder/')"
   ]
  },
  {
   "cell_type": "code",
   "execution_count": 26,
   "metadata": {},
   "outputs": [
    {
     "data": {
      "text/plain": [
       "'C:/Users/coral/Desktop/New folder1'"
      ]
     },
     "execution_count": 26,
     "metadata": {},
     "output_type": "execute_result"
    }
   ],
   "source": [
    "import shutil as s\n",
    "s.copytree('Untitled Folder1','C:/Users/coral/Desktop/New folder1')"
   ]
  },
  {
   "cell_type": "code",
   "execution_count": 24,
   "metadata": {},
   "outputs": [
    {
     "data": {
      "text/plain": [
       "'Untitled Folder2'"
      ]
     },
     "execution_count": 24,
     "metadata": {},
     "output_type": "execute_result"
    }
   ],
   "source": [
    "import shutil as s\n",
    "s.move('Untitled Folder','Untitled Folder2')"
   ]
  },
  {
   "cell_type": "code",
   "execution_count": null,
   "metadata": {},
   "outputs": [],
   "source": []
  }
 ],
 "metadata": {
  "kernelspec": {
   "display_name": "Python 3",
   "language": "python",
   "name": "python3"
  },
  "language_info": {
   "codemirror_mode": {
    "name": "ipython",
    "version": 3
   },
   "file_extension": ".py",
   "mimetype": "text/x-python",
   "name": "python",
   "nbconvert_exporter": "python",
   "pygments_lexer": "ipython3",
   "version": "3.7.1"
  }
 },
 "nbformat": 4,
 "nbformat_minor": 2
}
